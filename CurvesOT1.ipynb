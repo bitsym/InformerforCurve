{
  "nbformat": 4,
  "nbformat_minor": 0,
  "metadata": {
    "colab": {
      "provenance": [],
      "authorship_tag": "ABX9TyMiLo+qSbO6JCcYhluB2kUL",
      "include_colab_link": true
    },
    "kernelspec": {
      "name": "python3",
      "display_name": "Python 3"
    },
    "language_info": {
      "name": "python"
    }
  },
  "cells": [
    {
      "cell_type": "markdown",
      "metadata": {
        "id": "view-in-github",
        "colab_type": "text"
      },
      "source": [
        "<a href=\"https://colab.research.google.com/github/bitsym/InformerforCurve/blob/main/CurvesOT1.ipynb\" target=\"_parent\"><img src=\"https://colab.research.google.com/assets/colab-badge.svg\" alt=\"Open In Colab\"/></a>"
      ]
    },
    {
      "cell_type": "code",
      "source": [
        "import tensorflow as tf\n",
        "from tensorflow.keras.layers import Layer, Dense, LayerNormalization, Dropout, MultiHeadAttention, Input\n",
        "from tensorflow.keras.models import Model\n",
        "import numpy as np\n",
        "\n",
        "class PositionalEncoding(Layer):\n",
        "    def __init__(self, position, d_model):\n",
        "        super(PositionalEncoding, self).__init__()\n",
        "        self.pos_encoding = self.positional_encoding(position, d_model)\n",
        "\n",
        "    def get_angles(self, position, i, d_model):\n",
        "        angles = 1 / tf.pow(10000, (2 * (i // 2)) / tf.cast(d_model, tf.float32))\n",
        "        return position * angles\n",
        "\n",
        "    def positional_encoding(self, position, d_model):\n",
        "        angle_rads = self.get_angles(\n",
        "            position=tf.range(position, dtype=tf.float32)[:, tf.newaxis],\n",
        "            i=tf.range(d_model, dtype=tf.float32)[tf.newaxis, :],\n",
        "            d_model=d_model)\n",
        "        sines = tf.math.sin(angle_rads[:, 0::2])\n",
        "        cosines = tf.math.cos(angle_rads[:, 1::2])\n",
        "        pos_encoding = tf.concat([sines, cosines], axis=-1)[tf.newaxis, ...]\n",
        "        return tf.cast(pos_encoding, dtype=tf.float32)\n",
        "\n",
        "    def call(self, inputs):\n",
        "        return inputs + self.pos_encoding[:, :tf.shape(inputs)[1], :]\n",
        "class TransformerEncoder(Layer):\n",
        "    def __init__(self, d_model, num_heads, ff_dim, rate=0.1):\n",
        "        super(TransformerEncoder, self).__init__()\n",
        "        self.att = MultiHeadAttention(num_heads=num_heads, key_dim=d_model)\n",
        "        self.ffn = tf.keras.Sequential([\n",
        "            Dense(ff_dim, activation=\"relu\"),\n",
        "            Dense(d_model)\n",
        "        ])\n",
        "        self.layernorm1 = LayerNormalization(epsilon=1e-6)\n",
        "        self.layernorm2 = LayerNormalization(epsilon=1e-6)\n",
        "        self.dropout1 = Dropout(rate)\n",
        "        self.dropout2 = Dropout(rate)\n",
        "\n",
        "    def call(self, inputs, training=False):\n",
        "        attn_output = self.att(inputs, inputs)\n",
        "        attn_output = self.dropout1(attn_output, training=training)\n",
        "        out1 = self.layernorm1(inputs + attn_output)\n",
        "        ffn_output = self.ffn(out1)\n",
        "        ffn_output = self.dropout2(ffn_output, training=training)\n",
        "        return self.layernorm2(out1 + ffn_output)\n",
        "def build_transformer(num_features, sequence_length, d_model, num_heads, ff_dim, num_layers, rate=0.1):\n",
        "    inputs = Input(shape=(sequence_length, num_features))\n",
        "    # Map the input features to the model dimension\n",
        "    x = Dense(d_model, activation='relu')(inputs)\n",
        "    # Add positional encodings\n",
        "    x = PositionalEncoding(sequence_length, d_model)(x)\n",
        "    for _ in range(num_layers):\n",
        "        x = TransformerEncoder(d_model, num_heads, ff_dim, rate)(x)\n",
        "    outputs = Dense(1, activation='linear')(x)  # Predicting 'OT1'\n",
        "    model = Model(inputs=inputs, outputs=outputs)\n",
        "    return model\n"
      ],
      "metadata": {
        "id": "FdmeWXoibvKZ"
      },
      "execution_count": 4,
      "outputs": []
    },
    {
      "cell_type": "code",
      "source": [
        "import pandas as pd\n",
        "import numpy as np\n",
        "from sklearn.preprocessing import StandardScaler\n",
        "from sklearn.model_selection import train_test_split\n",
        "\n",
        "# Load the CSV file\n",
        "data = pd.read_csv('CurvesT1.csv')\n",
        "\n",
        "# Select features and target\n",
        "features = data[['LOCATION', 'X SERIAL', 'Y SERIAL', 'Z SERIAL']]\n",
        "target = data['OT1']\n",
        "\n",
        "# Normalize the feature data\n",
        "scaler = StandardScaler()\n",
        "features_scaled = scaler.fit_transform(features)\n",
        "\n",
        "# Check the sequence creation logic\n",
        "def create_sequences(features, target, sequence_length):\n",
        "    X, y = [], []\n",
        "    for i in range(0, len(features) - sequence_length + 1, sequence_length):  # Ensure no overlap if not desired\n",
        "        X.append(features[i:(i + sequence_length)])\n",
        "        y.append(target[i + sequence_length - 1])  # Adjust based on how you want to predict\n",
        "    return np.array(X), np.array(y)\n",
        "\n",
        "# Assuming sequence_length is correctly set and there's enough data\n",
        "features_seq, target_seq = create_sequences(features_scaled, target, sequence_length=21)\n",
        "print(\"Generated Features Shape:\", features_seq.shape)\n",
        "print(\"Generated Target Shape:\", target_seq.shape)\n",
        "\n",
        "# Generate sequences\n",
        "sequence_length = 21\n",
        "features_seq, target_seq = create_sequences(features_scaled, target, sequence_length)\n",
        "\n",
        "# Split the data into training, validation, and testing sets\n",
        "# Note: Adjust indices based on how you define training, validation, and testing\n",
        "index_train = len(features_seq) - 2 * sequence_length  # Reserve the last 42 sequences\n",
        "index_val = len(features_seq) - sequence_length  # Reserve the last 21 sequences\n",
        "\n",
        "train_features = features_seq[:index_train]\n",
        "train_target = target_seq[:index_train]\n",
        "\n",
        "val_features = features_seq[index_train:index_val]\n",
        "val_target = target_seq[index_train:index_val]\n",
        "\n",
        "test_features = features_seq[index_val:]\n",
        "test_target = target_seq[index_val:]\n",
        "\n",
        "# Now you can proceed to define and train your model with train_features, val_features, and test_features\n",
        "# Assuming the total number of sequences and the sequence length\n",
        "total_sequences = features_seq.shape[0]\n",
        "train_features = features_seq[:int(total_sequences * 0.8)]\n",
        "train_target = target_seq[:int(total_sequences * 0.8)]\n",
        "val_features = features_seq[int(total_sequences * 0.8):int(total_sequences * 0.9)]\n",
        "val_target = target_seq[int(total_sequences * 0.8):int(total_sequences * 0.9)]\n"
      ],
      "metadata": {
        "colab": {
          "base_uri": "https://localhost:8080/"
        },
        "id": "tSnT7n7mb08i",
        "outputId": "859ff773-c707-4287-9491-84251b1beea8"
      },
      "execution_count": 6,
      "outputs": [
        {
          "output_type": "stream",
          "name": "stdout",
          "text": [
            "Generated Features Shape: (16, 21, 4)\n",
            "Generated Target Shape: (16,)\n"
          ]
        }
      ]
    },
    {
      "cell_type": "code",
      "source": [
        "from tensorflow.keras.optimizers import Adam\n",
        "from tensorflow.keras.callbacks import EarlyStopping\n",
        "\n",
        "# Adjust model dimensions and architecture\n",
        "d_model = 1024  # increased from 512\n",
        "ff_dim = 4096   # increased from 2048\n",
        "num_layers = 4  # increased from 2\n",
        "\n",
        "model = build_transformer(num_features=4, sequence_length=21, d_model=d_model, num_heads=8, ff_dim=ff_dim, num_layers=num_layers)\n",
        "optimizer = Adam(learning_rate=0.001)\n",
        "model.compile(optimizer=optimizer, loss='mean_squared_error')\n",
        "\n",
        "# Add learning rate scheduler and early stopping\n",
        "lr_scheduler = tf.keras.callbacks.LearningRateScheduler(lambda epoch: 1e-8 * 10**(epoch / 20))\n",
        "early_stopping = EarlyStopping(monitor='val_loss', patience=10, restore_best_weights=True)\n",
        "\n",
        "history = model.fit(\n",
        "    train_features, train_target,\n",
        "    validation_data=(val_features, val_target),\n",
        "    epochs=100,\n",
        "    batch_size=32,\n",
        "    callbacks=[lr_scheduler, early_stopping]\n",
        ")\n",
        "\n"
      ],
      "metadata": {
        "colab": {
          "base_uri": "https://localhost:8080/",
          "height": 1000
        },
        "id": "zEG-ZDikb2D3",
        "outputId": "7906d894-e07e-44f0-dd0b-c700e6155842"
      },
      "execution_count": 7,
      "outputs": [
        {
          "output_type": "stream",
          "name": "stdout",
          "text": [
            "Epoch 1/100\n",
            "1/1 [==============================] - 29s 29s/step - loss: 1.1342 - val_loss: 1.1577 - lr: 1.0000e-08\n",
            "Epoch 2/100\n",
            "1/1 [==============================] - 13s 13s/step - loss: 1.2448 - val_loss: 1.1538 - lr: 1.1220e-08\n",
            "Epoch 3/100\n",
            "1/1 [==============================] - 12s 12s/step - loss: 1.2107 - val_loss: 1.1494 - lr: 1.2589e-08\n",
            "Epoch 4/100\n",
            "1/1 [==============================] - 12s 12s/step - loss: 1.1982 - val_loss: 1.1445 - lr: 1.4125e-08\n",
            "Epoch 5/100\n",
            "1/1 [==============================] - 12s 12s/step - loss: 1.1722 - val_loss: 1.1391 - lr: 1.5849e-08\n",
            "Epoch 6/100\n",
            "1/1 [==============================] - 12s 12s/step - loss: 1.2690 - val_loss: 1.1331 - lr: 1.7783e-08\n",
            "Epoch 7/100\n",
            "1/1 [==============================] - 12s 12s/step - loss: 1.0976 - val_loss: 1.1265 - lr: 1.9953e-08\n",
            "Epoch 8/100\n",
            "1/1 [==============================] - 12s 12s/step - loss: 1.1452 - val_loss: 1.1191 - lr: 2.2387e-08\n",
            "Epoch 9/100\n",
            "1/1 [==============================] - 12s 12s/step - loss: 1.2973 - val_loss: 1.1110 - lr: 2.5119e-08\n",
            "Epoch 10/100\n",
            "1/1 [==============================] - 11s 11s/step - loss: 1.0596 - val_loss: 1.1021 - lr: 2.8184e-08\n",
            "Epoch 11/100\n",
            "1/1 [==============================] - 12s 12s/step - loss: 1.2163 - val_loss: 1.0922 - lr: 3.1623e-08\n",
            "Epoch 12/100\n",
            "1/1 [==============================] - 12s 12s/step - loss: 1.1868 - val_loss: 1.0813 - lr: 3.5481e-08\n",
            "Epoch 13/100\n",
            "1/1 [==============================] - 12s 12s/step - loss: 1.0942 - val_loss: 1.0693 - lr: 3.9811e-08\n",
            "Epoch 14/100\n",
            "1/1 [==============================] - 12s 12s/step - loss: 1.1241 - val_loss: 1.0563 - lr: 4.4668e-08\n",
            "Epoch 15/100\n",
            "1/1 [==============================] - 12s 12s/step - loss: 1.1315 - val_loss: 1.0419 - lr: 5.0119e-08\n",
            "Epoch 16/100\n",
            "1/1 [==============================] - 12s 12s/step - loss: 1.0753 - val_loss: 1.0262 - lr: 5.6234e-08\n",
            "Epoch 17/100\n",
            "1/1 [==============================] - 12s 12s/step - loss: 1.1058 - val_loss: 1.0090 - lr: 6.3096e-08\n",
            "Epoch 18/100\n",
            "1/1 [==============================] - 11s 11s/step - loss: 1.0492 - val_loss: 0.9903 - lr: 7.0795e-08\n",
            "Epoch 19/100\n",
            "1/1 [==============================] - 11s 11s/step - loss: 1.0732 - val_loss: 0.9695 - lr: 7.9433e-08\n",
            "Epoch 20/100\n",
            "1/1 [==============================] - 12s 12s/step - loss: 1.1155 - val_loss: 0.9465 - lr: 8.9125e-08\n",
            "Epoch 21/100\n",
            "1/1 [==============================] - 11s 11s/step - loss: 1.0192 - val_loss: 0.9213 - lr: 1.0000e-07\n",
            "Epoch 22/100\n",
            "1/1 [==============================] - 12s 12s/step - loss: 0.9490 - val_loss: 0.8939 - lr: 1.1220e-07\n",
            "Epoch 23/100\n",
            "1/1 [==============================] - 12s 12s/step - loss: 0.9610 - val_loss: 0.8637 - lr: 1.2589e-07\n",
            "Epoch 24/100\n",
            "1/1 [==============================] - 12s 12s/step - loss: 0.9807 - val_loss: 0.8300 - lr: 1.4125e-07\n",
            "Epoch 25/100\n",
            "1/1 [==============================] - 12s 12s/step - loss: 0.9136 - val_loss: 0.7929 - lr: 1.5849e-07\n",
            "Epoch 26/100\n",
            "1/1 [==============================] - 11s 11s/step - loss: 0.8876 - val_loss: 0.7523 - lr: 1.7783e-07\n",
            "Epoch 27/100\n",
            "1/1 [==============================] - 13s 13s/step - loss: 0.8841 - val_loss: 0.7082 - lr: 1.9953e-07\n",
            "Epoch 28/100\n",
            "1/1 [==============================] - 12s 12s/step - loss: 0.7899 - val_loss: 0.6608 - lr: 2.2387e-07\n",
            "Epoch 29/100\n",
            "1/1 [==============================] - 12s 12s/step - loss: 0.8111 - val_loss: 0.6095 - lr: 2.5119e-07\n",
            "Epoch 30/100\n",
            "1/1 [==============================] - 12s 12s/step - loss: 0.7342 - val_loss: 0.5553 - lr: 2.8184e-07\n",
            "Epoch 31/100\n",
            "1/1 [==============================] - 12s 12s/step - loss: 0.6763 - val_loss: 0.4994 - lr: 3.1623e-07\n",
            "Epoch 32/100\n",
            "1/1 [==============================] - 12s 12s/step - loss: 0.6336 - val_loss: 0.4433 - lr: 3.5481e-07\n",
            "Epoch 33/100\n",
            "1/1 [==============================] - 12s 12s/step - loss: 0.6066 - val_loss: 0.3867 - lr: 3.9811e-07\n",
            "Epoch 34/100\n",
            "1/1 [==============================] - 12s 12s/step - loss: 0.5943 - val_loss: 0.3308 - lr: 4.4668e-07\n",
            "Epoch 35/100\n",
            "1/1 [==============================] - 11s 11s/step - loss: 0.5054 - val_loss: 0.2761 - lr: 5.0119e-07\n",
            "Epoch 36/100\n",
            "1/1 [==============================] - 11s 11s/step - loss: 0.4618 - val_loss: 0.2249 - lr: 5.6234e-07\n",
            "Epoch 37/100\n",
            "1/1 [==============================] - 12s 12s/step - loss: 0.4082 - val_loss: 0.1789 - lr: 6.3096e-07\n",
            "Epoch 38/100\n",
            "1/1 [==============================] - 12s 12s/step - loss: 0.3430 - val_loss: 0.1398 - lr: 7.0795e-07\n",
            "Epoch 39/100\n",
            "1/1 [==============================] - 12s 12s/step - loss: 0.3244 - val_loss: 0.1073 - lr: 7.9433e-07\n",
            "Epoch 40/100\n",
            "1/1 [==============================] - 12s 12s/step - loss: 0.2633 - val_loss: 0.0829 - lr: 8.9125e-07\n",
            "Epoch 41/100\n",
            "1/1 [==============================] - 12s 12s/step - loss: 0.2704 - val_loss: 0.0671 - lr: 1.0000e-06\n",
            "Epoch 42/100\n",
            "1/1 [==============================] - 12s 12s/step - loss: 0.2415 - val_loss: 0.0645 - lr: 1.1220e-06\n",
            "Epoch 43/100\n",
            "1/1 [==============================] - 10s 10s/step - loss: 0.2448 - val_loss: 0.0722 - lr: 1.2589e-06\n",
            "Epoch 44/100\n",
            "1/1 [==============================] - 11s 11s/step - loss: 0.2396 - val_loss: 0.0892 - lr: 1.4125e-06\n",
            "Epoch 45/100\n",
            "1/1 [==============================] - 11s 11s/step - loss: 0.2979 - val_loss: 0.1150 - lr: 1.5849e-06\n",
            "Epoch 46/100\n",
            "1/1 [==============================] - 11s 11s/step - loss: 0.2961 - val_loss: 0.1483 - lr: 1.7783e-06\n",
            "Epoch 47/100\n",
            "1/1 [==============================] - 12s 12s/step - loss: 0.3462 - val_loss: 0.1837 - lr: 1.9953e-06\n",
            "Epoch 48/100\n",
            "1/1 [==============================] - 11s 11s/step - loss: 0.3459 - val_loss: 0.2189 - lr: 2.2387e-06\n",
            "Epoch 49/100\n",
            "1/1 [==============================] - 11s 11s/step - loss: 0.3748 - val_loss: 0.2490 - lr: 2.5119e-06\n",
            "Epoch 50/100\n",
            "1/1 [==============================] - 12s 12s/step - loss: 0.3332 - val_loss: 0.2651 - lr: 2.8184e-06\n",
            "Epoch 51/100\n",
            "1/1 [==============================] - 11s 11s/step - loss: 0.4021 - val_loss: 0.2527 - lr: 3.1623e-06\n",
            "Epoch 52/100\n",
            "1/1 [==============================] - 12s 12s/step - loss: 0.3287 - val_loss: 0.2302 - lr: 3.5481e-06\n"
          ]
        },
        {
          "output_type": "error",
          "ename": "NameError",
          "evalue": "name 'plt' is not defined",
          "traceback": [
            "\u001b[0;31m---------------------------------------------------------------------------\u001b[0m",
            "\u001b[0;31mNameError\u001b[0m                                 Traceback (most recent call last)",
            "\u001b[0;32m<ipython-input-7-3fe03858d39a>\u001b[0m in \u001b[0;36m<cell line: 26>\u001b[0;34m()\u001b[0m\n\u001b[1;32m     24\u001b[0m \u001b[0;34m\u001b[0m\u001b[0m\n\u001b[1;32m     25\u001b[0m \u001b[0;31m# Plot learning rate vs loss\u001b[0m\u001b[0;34m\u001b[0m\u001b[0;34m\u001b[0m\u001b[0m\n\u001b[0;32m---> 26\u001b[0;31m \u001b[0mplt\u001b[0m\u001b[0;34m.\u001b[0m\u001b[0msemilogx\u001b[0m\u001b[0;34m(\u001b[0m\u001b[0mhistory\u001b[0m\u001b[0;34m.\u001b[0m\u001b[0mhistory\u001b[0m\u001b[0;34m[\u001b[0m\u001b[0;34m\"lr\"\u001b[0m\u001b[0;34m]\u001b[0m\u001b[0;34m,\u001b[0m \u001b[0mhistory\u001b[0m\u001b[0;34m.\u001b[0m\u001b[0mhistory\u001b[0m\u001b[0;34m[\u001b[0m\u001b[0;34m\"loss\"\u001b[0m\u001b[0;34m]\u001b[0m\u001b[0;34m)\u001b[0m\u001b[0;34m\u001b[0m\u001b[0;34m\u001b[0m\u001b[0m\n\u001b[0m\u001b[1;32m     27\u001b[0m \u001b[0mplt\u001b[0m\u001b[0;34m.\u001b[0m\u001b[0mxlabel\u001b[0m\u001b[0;34m(\u001b[0m\u001b[0;34m\"Learning Rate\"\u001b[0m\u001b[0;34m)\u001b[0m\u001b[0;34m\u001b[0m\u001b[0;34m\u001b[0m\u001b[0m\n\u001b[1;32m     28\u001b[0m \u001b[0mplt\u001b[0m\u001b[0;34m.\u001b[0m\u001b[0mylabel\u001b[0m\u001b[0;34m(\u001b[0m\u001b[0;34m\"Loss\"\u001b[0m\u001b[0;34m)\u001b[0m\u001b[0;34m\u001b[0m\u001b[0;34m\u001b[0m\u001b[0m\n",
            "\u001b[0;31mNameError\u001b[0m: name 'plt' is not defined"
          ]
        }
      ]
    },
    {
      "cell_type": "code",
      "source": [
        "import matplotlib.pyplot as plt\n",
        "\n",
        "# Plot learning rate vs loss\n",
        "plt.semilogx(history.history[\"lr\"], history.history[\"loss\"])\n",
        "plt.xlabel(\"Learning Rate\")\n",
        "plt.ylabel(\"Loss\")\n",
        "plt.title(\"Learning Rate vs. Loss\")\n",
        "plt.show()\n"
      ],
      "metadata": {
        "colab": {
          "base_uri": "https://localhost:8080/",
          "height": 476
        },
        "id": "ZctOmG71k6ba",
        "outputId": "d4c01e71-939a-4415-a4cc-d085f9d62113"
      },
      "execution_count": 8,
      "outputs": [
        {
          "output_type": "display_data",
          "data": {
            "text/plain": [
              "<Figure size 640x480 with 1 Axes>"
            ],
            "image/png": "[encoded data removed]"
          },
          "metadata": {}
        }
      ]
    },
    {
      "cell_type": "code",
      "source": [
        "total_sequences = len(features_seq)\n",
        "print(\"Total sequences available:\", total_sequences)\n",
        "# Make predictions on the test dataset\n",
        "test_predictions = model.predict(test_features)\n"
      ],
      "metadata": {
        "colab": {
          "base_uri": "https://localhost:8080/"
        },
        "id": "qZnN72GVPkuM",
        "outputId": "28e3f16d-0df2-4998-a30d-c3e73cb27190"
      },
      "execution_count": 11,
      "outputs": [
        {
          "output_type": "stream",
          "name": "stdout",
          "text": [
            "Total sequences available: 16\n",
            "1/1 [==============================] - 2s 2s/step\n"
          ]
        }
      ]
    },
    {
      "cell_type": "code",
      "source": [
        "print(test_predictions)"
      ],
      "metadata": {
        "colab": {
          "base_uri": "https://localhost:8080/"
        },
        "id": "d9CCKmLMQQGm",
        "outputId": "86cf113a-ea66-4b33-cdc1-566b43c4aebf"
      },
      "execution_count": 12,
      "outputs": [
        {
          "output_type": "stream",
          "name": "stdout",
          "text": [
            "[[[ 0.1962124 ]\n",
            "  [ 0.05562392]\n",
            "  [-0.37412742]\n",
            "  [-0.21537612]\n",
            "  [-0.08931492]\n",
            "  [ 0.08106254]\n",
            "  [-0.02973659]\n",
            "  [-0.12208821]\n",
            "  [-0.28039554]\n",
            "  [ 0.144816  ]\n",
            "  [ 0.5050832 ]\n",
            "  [ 0.36699602]\n",
            "  [ 0.10137357]\n",
            "  [-0.12324977]\n",
            "  [-0.07833205]\n",
            "  [ 0.18053226]\n",
            "  [ 0.44304907]\n",
            "  [ 0.56398493]\n",
            "  [ 0.36278448]\n",
            "  [ 0.24341972]\n",
            "  [ 0.13147362]]\n",
            "\n",
            " [[ 0.19443549]\n",
            "  [ 0.07058674]\n",
            "  [-0.33607468]\n",
            "  [-0.16727199]\n",
            "  [-0.03053386]\n",
            "  [ 0.13522874]\n",
            "  [ 0.02771078]\n",
            "  [-0.06435563]\n",
            "  [-0.23541959]\n",
            "  [ 0.18812181]\n",
            "  [ 0.54082483]\n",
            "  [ 0.39976427]\n",
            "  [ 0.11169225]\n",
            "  [-0.12950727]\n",
            "  [-0.09143163]\n",
            "  [ 0.16848116]\n",
            "  [ 0.43953174]\n",
            "  [ 0.56581813]\n",
            "  [ 0.37565106]\n",
            "  [ 0.25260773]\n",
            "  [ 0.1457413 ]]\n",
            "\n",
            " [[ 0.19438104]\n",
            "  [ 0.0709862 ]\n",
            "  [-0.33521765]\n",
            "  [-0.1662554 ]\n",
            "  [-0.02884449]\n",
            "  [ 0.13693927]\n",
            "  [ 0.02976255]\n",
            "  [-0.06260891]\n",
            "  [-0.2338217 ]\n",
            "  [ 0.18942134]\n",
            "  [ 0.54162925]\n",
            "  [ 0.40025455]\n",
            "  [ 0.11202687]\n",
            "  [-0.13009442]\n",
            "  [-0.09190415]\n",
            "  [ 0.16815399]\n",
            "  [ 0.43953365]\n",
            "  [ 0.5655388 ]\n",
            "  [ 0.37503257]\n",
            "  [ 0.25263768]\n",
            "  [ 0.14530815]]\n",
            "\n",
            " [[ 0.19429402]\n",
            "  [ 0.07167902]\n",
            "  [-0.33222768]\n",
            "  [-0.16252567]\n",
            "  [-0.02536799]\n",
            "  [ 0.13994996]\n",
            "  [ 0.03319489]\n",
            "  [-0.05915267]\n",
            "  [-0.23197614]\n",
            "  [ 0.19081442]\n",
            "  [ 0.54277444]\n",
            "  [ 0.40110812]\n",
            "  [ 0.11187118]\n",
            "  [-0.13072348]\n",
            "  [-0.09218675]\n",
            "  [ 0.16717832]\n",
            "  [ 0.43848592]\n",
            "  [ 0.5657195 ]\n",
            "  [ 0.37530735]\n",
            "  [ 0.25322393]\n",
            "  [ 0.14652823]]\n",
            "\n",
            " [[ 0.19434778]\n",
            "  [ 0.07128423]\n",
            "  [-0.33309287]\n",
            "  [-0.1635621 ]\n",
            "  [-0.02705483]\n",
            "  [ 0.1382107 ]\n",
            "  [ 0.0311182 ]\n",
            "  [-0.0609308 ]\n",
            "  [-0.23353161]\n",
            "  [ 0.18950284]\n",
            "  [ 0.54202694]\n",
            "  [ 0.40061265]\n",
            "  [ 0.11155156]\n",
            "  [-0.13012886]\n",
            "  [-0.09174784]\n",
            "  [ 0.16752754]\n",
            "  [ 0.43856025]\n",
            "  [ 0.5662289 ]\n",
            "  [ 0.37590536]\n",
            "  [ 0.25305355]\n",
            "  [ 0.14678903]]]\n"
          ]
        }
      ]
    },
    {
      "cell_type": "code",
      "source": [
        "print(\"Current shape of test_predictions:\", test_predictions.shape)\n"
      ],
      "metadata": {
        "colab": {
          "base_uri": "https://localhost:8080/"
        },
        "id": "apfonjFcqDdn",
        "outputId": "e760bf99-3adf-4812-8815-e0b85845c098"
      },
      "execution_count": 13,
      "outputs": [
        {
          "output_type": "stream",
          "name": "stdout",
          "text": [
            "Current shape of test_predictions: (5, 21, 1)\n"
          ]
        }
      ]
    },
    {
      "cell_type": "code",
      "source": [
        "test_pre = test_predictions[0,:]\n",
        "print(test_pre)\n",
        "testPre = test_pre[:,0]\n",
        "print(testPre)"
      ],
      "metadata": {
        "colab": {
          "base_uri": "https://localhost:8080/"
        },
        "id": "qHg70KaEDke7",
        "outputId": "5a0f3564-b58d-4859-9b63-53699ef39448"
      },
      "execution_count": 14,
      "outputs": [
        {
          "output_type": "stream",
          "name": "stdout",
          "text": [
            "[[ 0.1962124 ]\n",
            " [ 0.05562392]\n",
            " [-0.37412742]\n",
            " [-0.21537612]\n",
            " [-0.08931492]\n",
            " [ 0.08106254]\n",
            " [-0.02973659]\n",
            " [-0.12208821]\n",
            " [-0.28039554]\n",
            " [ 0.144816  ]\n",
            " [ 0.5050832 ]\n",
            " [ 0.36699602]\n",
            " [ 0.10137357]\n",
            " [-0.12324977]\n",
            " [-0.07833205]\n",
            " [ 0.18053226]\n",
            " [ 0.44304907]\n",
            " [ 0.56398493]\n",
            " [ 0.36278448]\n",
            " [ 0.24341972]\n",
            " [ 0.13147362]]\n",
            "[ 0.1962124   0.05562392 -0.37412742 -0.21537612 -0.08931492  0.08106254\n",
            " -0.02973659 -0.12208821 -0.28039554  0.144816    0.5050832   0.36699602\n",
            "  0.10137357 -0.12324977 -0.07833205  0.18053226  0.44304907  0.56398493\n",
            "  0.36278448  0.24341972  0.13147362]\n"
          ]
        }
      ]
    },
    {
      "cell_type": "code",
      "source": [
        "print(test_target)\n",
        "print(target)\n",
        "testY = target[-21:]\n",
        "print(testY)"
      ],
      "metadata": {
        "colab": {
          "base_uri": "https://localhost:8080/"
        },
        "id": "_DQgviiyXX2K",
        "outputId": "0af60af9-414e-4d1f-d870-0df5836ec436"
      },
      "execution_count": 32,
      "outputs": [
        {
          "output_type": "stream",
          "name": "stdout",
          "text": [
            "[0.046869 0.049058 0.048929 0.04597  0.046049]\n",
            "0      0.072374\n",
            "1      0.046824\n",
            "2      0.082349\n",
            "3      0.033152\n",
            "4      0.016716\n",
            "         ...   \n",
            "331    0.015647\n",
            "332    0.014293\n",
            "333    0.018456\n",
            "334    0.057398\n",
            "335    0.046049\n",
            "Name: OT1, Length: 336, dtype: float64\n",
            "315    0.032873\n",
            "316    0.063358\n",
            "317    0.056203\n",
            "318    0.013562\n",
            "319    0.008939\n",
            "320    0.008816\n",
            "321    0.007446\n",
            "322    0.015371\n",
            "323    0.001957\n",
            "324    0.022273\n",
            "325    0.021750\n",
            "326    0.016477\n",
            "327    0.015945\n",
            "328    0.015948\n",
            "329    0.019459\n",
            "330    0.001637\n",
            "331    0.015647\n",
            "332    0.014293\n",
            "333    0.018456\n",
            "334    0.057398\n",
            "335    0.046049\n",
            "Name: OT1, dtype: float64\n"
          ]
        }
      ]
    },
    {
      "cell_type": "code",
      "source": [
        "print(testY)\n",
        "print(len(testY))"
      ],
      "metadata": {
        "colab": {
          "base_uri": "https://localhost:8080/"
        },
        "id": "pNQFPQ0MYubh",
        "outputId": "18726bf8-4c63-4e9d-b065-06c9ceac6ce7"
      },
      "execution_count": 33,
      "outputs": [
        {
          "output_type": "stream",
          "name": "stdout",
          "text": [
            "315    0.032873\n",
            "316    0.063358\n",
            "317    0.056203\n",
            "318    0.013562\n",
            "319    0.008939\n",
            "320    0.008816\n",
            "321    0.007446\n",
            "322    0.015371\n",
            "323    0.001957\n",
            "324    0.022273\n",
            "325    0.021750\n",
            "326    0.016477\n",
            "327    0.015945\n",
            "328    0.015948\n",
            "329    0.019459\n",
            "330    0.001637\n",
            "331    0.015647\n",
            "332    0.014293\n",
            "333    0.018456\n",
            "334    0.057398\n",
            "335    0.046049\n",
            "Name: OT1, dtype: float64\n",
            "21\n"
          ]
        }
      ]
    },
    {
      "cell_type": "code",
      "source": [
        "print(testPre)"
      ],
      "metadata": {
        "colab": {
          "base_uri": "https://localhost:8080/"
        },
        "id": "wBt9FBtReYQg",
        "outputId": "0a5ec1ca-8141-46b2-d093-9901fbdcf01c"
      },
      "execution_count": 17,
      "outputs": [
        {
          "output_type": "stream",
          "name": "stdout",
          "text": [
            "[ 0.1962124   0.05562392 -0.37412742 -0.21537612 -0.08931492  0.08106254\n",
            " -0.02973659 -0.12208821 -0.28039554  0.144816    0.5050832   0.36699602\n",
            "  0.10137357 -0.12324977 -0.07833205  0.18053226  0.44304907  0.56398493\n",
            "  0.36278448  0.24341972  0.13147362]\n"
          ]
        }
      ]
    },
    {
      "cell_type": "code",
      "source": [
        "testY = testY.to_numpy()\n"
      ],
      "metadata": {
        "id": "kDRSTDBDEtWI"
      },
      "execution_count": 34,
      "outputs": []
    },
    {
      "cell_type": "code",
      "source": [
        "print(testY.shape)"
      ],
      "metadata": {
        "colab": {
          "base_uri": "https://localhost:8080/"
        },
        "id": "PcLdiYNARekp",
        "outputId": "f4d14051-c854-457f-bdd4-46aa48cc077c"
      },
      "execution_count": 35,
      "outputs": [
        {
          "output_type": "stream",
          "name": "stdout",
          "text": [
            "(21,)\n"
          ]
        }
      ]
    },
    {
      "cell_type": "code",
      "source": [
        "print(testY)"
      ],
      "metadata": {
        "colab": {
          "base_uri": "https://localhost:8080/"
        },
        "id": "YF3gFbXCQmyo",
        "outputId": "3a4a861c-8685-41ab-b912-e10f4b3ec7b7"
      },
      "execution_count": 19,
      "outputs": [
        {
          "output_type": "stream",
          "name": "stdout",
          "text": [
            "[0.032873 0.063358 0.056203 0.013562 0.008939 0.008816 0.007446 0.015371\n",
            " 0.001957 0.022273 0.02175  0.016477 0.015945 0.015948 0.019459 0.001637\n",
            " 0.015647 0.014293 0.018456 0.057398]\n"
          ]
        }
      ]
    },
    {
      "cell_type": "code",
      "source": [
        "import matplotlib.pyplot as plt\n",
        "\n",
        "# Assuming test_target is correctly aligned with test_predictions\n",
        "# plt.figure(figsize=(12, 6))\n",
        "plt.plot(testY, label='Actual Values', linestyle='-', color='blue')\n",
        "plt.plot(testPre, label='Predicted Values', linestyle='--', color='red')\n",
        "plt.title('Comparison of Actual and Predicted Values')\n",
        "plt.xlabel('Index')\n",
        "plt.ylabel('Value')\n",
        "plt.legend()\n",
        "plt.grid(True)\n",
        "plt.show()"
      ],
      "metadata": {
        "colab": {
          "base_uri": "https://localhost:8080/",
          "height": 472
        },
        "id": "7uN4x6cPeDqW",
        "outputId": "06eabdcc-f58f-47ac-ae19-146302f1cffe"
      },
      "execution_count": 36,
      "outputs": [
        {
          "output_type": "display_data",
          "data": {
            "text/plain": [
              "<Figure size 640x480 with 1 Axes>"
            ],
            "image/png": "[encoded data removed]"
          },
          "metadata": {}
        }
      ]
    },
    {
      "cell_type": "code",
      "source": [
        "import pandas as pd\n",
        "\n",
        "# Create a DataFrame with both testY and testPre\n",
        "data = {\n",
        "    'Actual Values': testY,\n",
        "    'Predicted Values': testPre\n",
        "}\n",
        "df = pd.DataFrame(data)\n",
        "# Saving the DataFrame to a CSV file\n",
        "df.to_csv('predictions_comparison_OT1.csv', index=False)\n",
        "# Saving each vector to its own CSV file\n",
        "df_actual = pd.DataFrame(testY, columns=['Actual Values'])\n",
        "df_predicted = pd.DataFrame(testPre, columns=['Predicted Values'])\n",
        "\n",
        "df_actual.to_csv('actual_valuesOT1.csv', index=False)\n",
        "df_predicted.to_csv('predicted_valuesOT1.csv', index=False)\n"
      ],
      "metadata": {
        "id": "uNK0NTXrQ76B"
      },
      "execution_count": 39,
      "outputs": []
    },
    {
      "cell_type": "code",
      "source": [
        "# Loading the CSVs to verify their contents\n",
        "loaded_actual = pd.read_csv('actual_values.csv')\n",
        "loaded_predicted = pd.read_csv('predicted_values.csv')\n",
        "\n",
        "print(loaded_actual.head())\n",
        "print(loaded_predicted.head())\n"
      ],
      "metadata": {
        "colab": {
          "base_uri": "https://localhost:8080/"
        },
        "id": "g-Fyv29BR4yg",
        "outputId": "568d8662-406a-472b-9bbd-1b6bfce56c70"
      },
      "execution_count": 40,
      "outputs": [
        {
          "output_type": "stream",
          "name": "stdout",
          "text": [
            "   Actual Values\n",
            "0       0.032873\n",
            "1       0.063358\n",
            "2       0.056203\n",
            "3       0.013562\n",
            "4       0.008939\n",
            "   Predicted Values\n",
            "0          0.196212\n",
            "1          0.055624\n",
            "2         -0.374127\n",
            "3         -0.215376\n",
            "4         -0.089315\n"
          ]
        }
      ]
    }
  ]
}