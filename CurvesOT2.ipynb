{
  "nbformat": 4,
  "nbformat_minor": 0,
  "metadata": {
    "colab": {
      "provenance": [],
      "authorship_tag": "ABX9TyNAhOfobzTPqxJYZa+6aag3",
      "include_colab_link": true
    },
    "kernelspec": {
      "name": "python3",
      "display_name": "Python 3"
    },
    "language_info": {
      "name": "python"
    }
  },
  "cells": [
    {
      "cell_type": "markdown",
      "metadata": {
        "id": "view-in-github",
        "colab_type": "text"
      },
      "source": [
        "<a href=\"https://colab.research.google.com/github/bitsym/InformerforCurve/blob/main/CurvesOT2.ipynb\" target=\"_parent\"><img src=\"https://colab.research.google.com/assets/colab-badge.svg\" alt=\"Open In Colab\"/></a>"
      ]
    },
    {
      "cell_type": "code",
      "execution_count": 1,
      "metadata": {
        "id": "pno9NjMpVvcn"
      },
      "outputs": [],
      "source": [
        "import tensorflow as tf\n",
        "from tensorflow.keras.layers import Layer, Dense, LayerNormalization, Dropout, MultiHeadAttention, Input\n",
        "from tensorflow.keras.models import Model\n",
        "import numpy as np\n",
        "\n",
        "class PositionalEncoding(Layer):\n",
        "    def __init__(self, position, d_model):\n",
        "        super(PositionalEncoding, self).__init__()\n",
        "        self.pos_encoding = self.positional_encoding(position, d_model)\n",
        "\n",
        "    def get_angles(self, position, i, d_model):\n",
        "        angles = 1 / tf.pow(10000, (2 * (i // 2)) / tf.cast(d_model, tf.float32))\n",
        "        return position * angles\n",
        "\n",
        "    def positional_encoding(self, position, d_model):\n",
        "        angle_rads = self.get_angles(\n",
        "            position=tf.range(position, dtype=tf.float32)[:, tf.newaxis],\n",
        "            i=tf.range(d_model, dtype=tf.float32)[tf.newaxis, :],\n",
        "            d_model=d_model)\n",
        "        sines = tf.math.sin(angle_rads[:, 0::2])\n",
        "        cosines = tf.math.cos(angle_rads[:, 1::2])\n",
        "        pos_encoding = tf.concat([sines, cosines], axis=-1)[tf.newaxis, ...]\n",
        "        return tf.cast(pos_encoding, dtype=tf.float32)\n",
        "\n",
        "    def call(self, inputs):\n",
        "        return inputs + self.pos_encoding[:, :tf.shape(inputs)[1], :]\n",
        "class TransformerEncoder(Layer):\n",
        "    def __init__(self, d_model, num_heads, ff_dim, rate=0.1):\n",
        "        super(TransformerEncoder, self).__init__()\n",
        "        self.att = MultiHeadAttention(num_heads=num_heads, key_dim=d_model)\n",
        "        self.ffn = tf.keras.Sequential([\n",
        "            Dense(ff_dim, activation=\"relu\"),\n",
        "            Dense(d_model)\n",
        "        ])\n",
        "        self.layernorm1 = LayerNormalization(epsilon=1e-6)\n",
        "        self.layernorm2 = LayerNormalization(epsilon=1e-6)\n",
        "        self.dropout1 = Dropout(rate)\n",
        "        self.dropout2 = Dropout(rate)\n",
        "\n",
        "    def call(self, inputs, training=False):\n",
        "        attn_output = self.att(inputs, inputs)\n",
        "        attn_output = self.dropout1(attn_output, training=training)\n",
        "        out1 = self.layernorm1(inputs + attn_output)\n",
        "        ffn_output = self.ffn(out1)\n",
        "        ffn_output = self.dropout2(ffn_output, training=training)\n",
        "        return self.layernorm2(out1 + ffn_output)\n",
        "def build_transformer(num_features, sequence_length, d_model, num_heads, ff_dim, num_layers, rate=0.1):\n",
        "    inputs = Input(shape=(sequence_length, num_features))\n",
        "    # Map the input features to the model dimension\n",
        "    x = Dense(d_model, activation='relu')(inputs)\n",
        "    # Add positional encodings\n",
        "    x = PositionalEncoding(sequence_length, d_model)(x)\n",
        "    for _ in range(num_layers):\n",
        "        x = TransformerEncoder(d_model, num_heads, ff_dim, rate)(x)\n",
        "    outputs = Dense(1, activation='linear')(x)  # Predicting 'OT1'\n",
        "    model = Model(inputs=inputs, outputs=outputs)\n",
        "    return model\n"
      ]
    },
    {
      "cell_type": "code",
      "source": [
        "import pandas as pd\n",
        "import numpy as np\n",
        "from sklearn.preprocessing import StandardScaler\n",
        "from sklearn.model_selection import train_test_split\n",
        "\n",
        "# Load the CSV file\n",
        "data = pd.read_csv('CurvesT2.csv')\n",
        "\n",
        "# Select features and target\n",
        "features = data[['LOCATION', 'X SERIAL', 'Y SERIAL', 'Z SERIAL']]\n",
        "target = data['OT2']\n",
        "\n",
        "# Normalize the feature data\n",
        "scaler = StandardScaler()\n",
        "features_scaled = scaler.fit_transform(features)\n",
        "\n",
        "# Check the sequence creation logic\n",
        "def create_sequences(features, target, sequence_length):\n",
        "    X, y = [], []\n",
        "    for i in range(0, len(features) - sequence_length + 1, sequence_length):  # Ensure no overlap if not desired\n",
        "        X.append(features[i:(i + sequence_length)])\n",
        "        y.append(target[i + sequence_length - 1])  # Adjust based on how you want to predict\n",
        "    return np.array(X), np.array(y)\n",
        "\n",
        "# Assuming sequence_length is correctly set and there's enough data\n",
        "features_seq, target_seq = create_sequences(features_scaled, target, sequence_length=21)\n",
        "print(\"Generated Features Shape:\", features_seq.shape)\n",
        "print(\"Generated Target Shape:\", target_seq.shape)\n",
        "\n",
        "# Generate sequences\n",
        "sequence_length = 21\n",
        "features_seq, target_seq = create_sequences(features_scaled, target, sequence_length)\n",
        "\n",
        "# Split the data into training, validation, and testing sets\n",
        "# Note: Adjust indices based on how you define training, validation, and testing\n",
        "index_train = len(features_seq) - 2 * sequence_length  # Reserve the last 42 sequences\n",
        "index_val = len(features_seq) - sequence_length  # Reserve the last 21 sequences\n",
        "\n",
        "train_features = features_seq[:index_train]\n",
        "train_target = target_seq[:index_train]\n",
        "\n",
        "val_features = features_seq[index_train:index_val]\n",
        "val_target = target_seq[index_train:index_val]\n",
        "\n",
        "test_features = features_seq[index_val:]\n",
        "test_target = target_seq[index_val:]\n",
        "\n",
        "# Now you can proceed to define and train your model with train_features, val_features, and test_features\n",
        "# Assuming the total number of sequences and the sequence length\n",
        "total_sequences = features_seq.shape[0]\n",
        "train_features = features_seq[:int(total_sequences * 0.8)]\n",
        "train_target = target_seq[:int(total_sequences * 0.8)]\n",
        "val_features = features_seq[int(total_sequences * 0.8):int(total_sequences * 0.9)]\n",
        "val_target = target_seq[int(total_sequences * 0.8):int(total_sequences * 0.9)]\n"
      ],
      "metadata": {
        "colab": {
          "base_uri": "https://localhost:8080/"
        },
        "id": "7rlpmpI-VyCT",
        "outputId": "0aae1db8-ecfb-4ce8-b86b-2d42b7887db6"
      },
      "execution_count": 3,
      "outputs": [
        {
          "output_type": "stream",
          "name": "stdout",
          "text": [
            "Generated Features Shape: (16, 21, 4)\n",
            "Generated Target Shape: (16,)\n"
          ]
        }
      ]
    },
    {
      "cell_type": "code",
      "source": [
        "from tensorflow.keras.optimizers import Adam\n",
        "from tensorflow.keras.callbacks import EarlyStopping\n",
        "\n",
        "# Adjust model dimensions and architecture\n",
        "d_model = 1024  # increased from 512\n",
        "ff_dim = 4096   # increased from 2048\n",
        "num_layers = 4  # increased from 2\n",
        "\n",
        "model = build_transformer(num_features=4, sequence_length=21, d_model=d_model, num_heads=8, ff_dim=ff_dim, num_layers=num_layers)\n",
        "optimizer = Adam(learning_rate=0.001)\n",
        "model.compile(optimizer=optimizer, loss='mean_squared_error')\n",
        "\n",
        "# Add learning rate scheduler and early stopping\n",
        "lr_scheduler = tf.keras.callbacks.LearningRateScheduler(lambda epoch: 1e-8 * 10**(epoch / 20))\n",
        "early_stopping = EarlyStopping(monitor='val_loss', patience=10, restore_best_weights=True)\n",
        "\n",
        "history = model.fit(\n",
        "    train_features, train_target,\n",
        "    validation_data=(val_features, val_target),\n",
        "    epochs=100,\n",
        "    batch_size=32,\n",
        "    callbacks=[lr_scheduler, early_stopping]\n",
        ")\n",
        "\n"
      ],
      "metadata": {
        "colab": {
          "base_uri": "https://localhost:8080/"
        },
        "id": "r1ITbgX-V2l9",
        "outputId": "bebd1ee6-8cf4-4835-a461-b4918d3b8dd5"
      },
      "execution_count": 4,
      "outputs": [
        {
          "output_type": "stream",
          "name": "stdout",
          "text": [
            "Epoch 1/100\n",
            "1/1 [==============================] - 25s 25s/step - loss: 0.7755 - val_loss: 0.6541 - lr: 1.0000e-08\n",
            "Epoch 2/100\n",
            "1/1 [==============================] - 13s 13s/step - loss: 0.7892 - val_loss: 0.6482 - lr: 1.1220e-08\n",
            "Epoch 3/100\n",
            "1/1 [==============================] - 12s 12s/step - loss: 0.8151 - val_loss: 0.6415 - lr: 1.2589e-08\n",
            "Epoch 4/100\n",
            "1/1 [==============================] - 12s 12s/step - loss: 0.8211 - val_loss: 0.6341 - lr: 1.4125e-08\n",
            "Epoch 5/100\n",
            "1/1 [==============================] - 12s 12s/step - loss: 0.7352 - val_loss: 0.6261 - lr: 1.5849e-08\n",
            "Epoch 6/100\n",
            "1/1 [==============================] - 12s 12s/step - loss: 0.7923 - val_loss: 0.6173 - lr: 1.7783e-08\n",
            "Epoch 7/100\n",
            "1/1 [==============================] - 13s 13s/step - loss: 0.7037 - val_loss: 0.6076 - lr: 1.9953e-08\n",
            "Epoch 8/100\n",
            "1/1 [==============================] - 12s 12s/step - loss: 0.7846 - val_loss: 0.5970 - lr: 2.2387e-08\n",
            "Epoch 9/100\n",
            "1/1 [==============================] - 12s 12s/step - loss: 0.8755 - val_loss: 0.5855 - lr: 2.5119e-08\n",
            "Epoch 10/100\n",
            "1/1 [==============================] - 13s 13s/step - loss: 0.7735 - val_loss: 0.5729 - lr: 2.8184e-08\n",
            "Epoch 11/100\n",
            "1/1 [==============================] - 13s 13s/step - loss: 0.7100 - val_loss: 0.5595 - lr: 3.1623e-08\n",
            "Epoch 12/100\n",
            "1/1 [==============================] - 12s 12s/step - loss: 0.7583 - val_loss: 0.5450 - lr: 3.5481e-08\n",
            "Epoch 13/100\n",
            "1/1 [==============================] - 13s 13s/step - loss: 0.6324 - val_loss: 0.5300 - lr: 3.9811e-08\n",
            "Epoch 14/100\n",
            "1/1 [==============================] - 12s 12s/step - loss: 0.7289 - val_loss: 0.5140 - lr: 4.4668e-08\n",
            "Epoch 15/100\n",
            "1/1 [==============================] - 12s 12s/step - loss: 0.6574 - val_loss: 0.4973 - lr: 5.0119e-08\n",
            "Epoch 16/100\n",
            "1/1 [==============================] - 12s 12s/step - loss: 0.6752 - val_loss: 0.4801 - lr: 5.6234e-08\n",
            "Epoch 17/100\n",
            "1/1 [==============================] - 12s 12s/step - loss: 0.6327 - val_loss: 0.4627 - lr: 6.3096e-08\n",
            "Epoch 18/100\n",
            "1/1 [==============================] - 12s 12s/step - loss: 0.5918 - val_loss: 0.4453 - lr: 7.0795e-08\n",
            "Epoch 19/100\n",
            "1/1 [==============================] - 12s 12s/step - loss: 0.5865 - val_loss: 0.4282 - lr: 7.9433e-08\n",
            "Epoch 20/100\n",
            "1/1 [==============================] - 12s 12s/step - loss: 0.5643 - val_loss: 0.4116 - lr: 8.9125e-08\n",
            "Epoch 21/100\n",
            "1/1 [==============================] - 12s 12s/step - loss: 0.5040 - val_loss: 0.3959 - lr: 1.0000e-07\n",
            "Epoch 22/100\n",
            "1/1 [==============================] - 12s 12s/step - loss: 0.5185 - val_loss: 0.3814 - lr: 1.1220e-07\n",
            "Epoch 23/100\n",
            "1/1 [==============================] - 12s 12s/step - loss: 0.5723 - val_loss: 0.3681 - lr: 1.2589e-07\n",
            "Epoch 24/100\n",
            "1/1 [==============================] - 13s 13s/step - loss: 0.4842 - val_loss: 0.3559 - lr: 1.4125e-07\n",
            "Epoch 25/100\n",
            "1/1 [==============================] - 12s 12s/step - loss: 0.5459 - val_loss: 0.3445 - lr: 1.5849e-07\n",
            "Epoch 26/100\n",
            "1/1 [==============================] - 12s 12s/step - loss: 0.5468 - val_loss: 0.3335 - lr: 1.7783e-07\n",
            "Epoch 27/100\n",
            "1/1 [==============================] - 12s 12s/step - loss: 0.5764 - val_loss: 0.3217 - lr: 1.9953e-07\n",
            "Epoch 28/100\n",
            "1/1 [==============================] - 12s 12s/step - loss: 0.4477 - val_loss: 0.3080 - lr: 2.2387e-07\n",
            "Epoch 29/100\n",
            "1/1 [==============================] - 12s 12s/step - loss: 0.4403 - val_loss: 0.2917 - lr: 2.5119e-07\n",
            "Epoch 30/100\n",
            "1/1 [==============================] - 12s 12s/step - loss: 0.4608 - val_loss: 0.2718 - lr: 2.8184e-07\n",
            "Epoch 31/100\n",
            "1/1 [==============================] - 12s 12s/step - loss: 0.4318 - val_loss: 0.2473 - lr: 3.1623e-07\n",
            "Epoch 32/100\n",
            "1/1 [==============================] - 12s 12s/step - loss: 0.4103 - val_loss: 0.2172 - lr: 3.5481e-07\n",
            "Epoch 33/100\n",
            "1/1 [==============================] - 12s 12s/step - loss: 0.3780 - val_loss: 0.1839 - lr: 3.9811e-07\n",
            "Epoch 34/100\n",
            "1/1 [==============================] - 12s 12s/step - loss: 0.3749 - val_loss: 0.1493 - lr: 4.4668e-07\n",
            "Epoch 35/100\n",
            "1/1 [==============================] - 12s 12s/step - loss: 0.3480 - val_loss: 0.1181 - lr: 5.0119e-07\n",
            "Epoch 36/100\n",
            "1/1 [==============================] - 16s 16s/step - loss: 0.2652 - val_loss: 0.0959 - lr: 5.6234e-07\n",
            "Epoch 37/100\n",
            "1/1 [==============================] - 12s 12s/step - loss: 0.3459 - val_loss: 0.0831 - lr: 6.3096e-07\n",
            "Epoch 38/100\n",
            "1/1 [==============================] - 12s 12s/step - loss: 0.2919 - val_loss: 0.0774 - lr: 7.0795e-07\n",
            "Epoch 39/100\n",
            "1/1 [==============================] - 12s 12s/step - loss: 0.2749 - val_loss: 0.0762 - lr: 7.9433e-07\n",
            "Epoch 40/100\n",
            "1/1 [==============================] - 11s 11s/step - loss: 0.2636 - val_loss: 0.0726 - lr: 8.9125e-07\n",
            "Epoch 41/100\n",
            "1/1 [==============================] - 12s 12s/step - loss: 0.2728 - val_loss: 0.0666 - lr: 1.0000e-06\n",
            "Epoch 42/100\n",
            "1/1 [==============================] - 11s 11s/step - loss: 0.2713 - val_loss: 0.0620 - lr: 1.1220e-06\n",
            "Epoch 43/100\n",
            "1/1 [==============================] - 11s 11s/step - loss: 0.2887 - val_loss: 0.0643 - lr: 1.2589e-06\n",
            "Epoch 44/100\n",
            "1/1 [==============================] - 11s 11s/step - loss: 0.2693 - val_loss: 0.0769 - lr: 1.4125e-06\n",
            "Epoch 45/100\n",
            "1/1 [==============================] - 12s 12s/step - loss: 0.2630 - val_loss: 0.0891 - lr: 1.5849e-06\n",
            "Epoch 46/100\n",
            "1/1 [==============================] - 11s 11s/step - loss: 0.2292 - val_loss: 0.0917 - lr: 1.7783e-06\n",
            "Epoch 47/100\n",
            "1/1 [==============================] - 12s 12s/step - loss: 0.2440 - val_loss: 0.0809 - lr: 1.9953e-06\n",
            "Epoch 48/100\n",
            "1/1 [==============================] - 11s 11s/step - loss: 0.2408 - val_loss: 0.0685 - lr: 2.2387e-06\n",
            "Epoch 49/100\n",
            "1/1 [==============================] - 11s 11s/step - loss: 0.2609 - val_loss: 0.0662 - lr: 2.5119e-06\n",
            "Epoch 50/100\n",
            "1/1 [==============================] - 12s 12s/step - loss: 0.2236 - val_loss: 0.0731 - lr: 2.8184e-06\n",
            "Epoch 51/100\n",
            "1/1 [==============================] - 11s 11s/step - loss: 0.2592 - val_loss: 0.0800 - lr: 3.1623e-06\n",
            "Epoch 52/100\n",
            "1/1 [==============================] - 12s 12s/step - loss: 0.2353 - val_loss: 0.0908 - lr: 3.5481e-06\n"
          ]
        }
      ]
    },
    {
      "cell_type": "code",
      "source": [
        "import matplotlib.pyplot as plt\n",
        "\n",
        "# Plot learning rate vs loss\n",
        "plt.semilogx(history.history[\"lr\"], history.history[\"loss\"])\n",
        "plt.xlabel(\"Learning Rate\")\n",
        "plt.ylabel(\"Loss\")\n",
        "plt.title(\"Learning Rate vs. Loss\")\n",
        "plt.show()\n"
      ],
      "metadata": {
        "colab": {
          "base_uri": "https://localhost:8080/",
          "height": 476
        },
        "id": "g4BasF26V4kP",
        "outputId": "5018f30f-a3b3-4303-be4e-557ca2e9a997"
      },
      "execution_count": 5,
      "outputs": [
        {
          "output_type": "display_data",
          "data": {
            "text/plain": [
              "<Figure size 640x480 with 1 Axes>"
            ],
            "image/png": "[encoded data removed]"
          },
          "metadata": {}
        }
      ]
    },
    {
      "cell_type": "code",
      "source": [
        "total_sequences = len(features_seq)\n",
        "print(\"Total sequences available:\", total_sequences)\n",
        "# Make predictions on the test dataset\n",
        "test_predictions = model.predict(test_features)\n",
        "test_pre = test_predictions[0,:]\n",
        "print(test_pre)\n",
        "testPre = test_pre[:,0]\n",
        "print(testPre)"
      ],
      "metadata": {
        "colab": {
          "base_uri": "https://localhost:8080/"
        },
        "id": "WVPbTax1V6lc",
        "outputId": "65633144-40c6-40b2-9bc7-760714f365d3"
      },
      "execution_count": 6,
      "outputs": [
        {
          "output_type": "stream",
          "name": "stdout",
          "text": [
            "Total sequences available: 16\n",
            "1/1 [==============================] - 4s 4s/step\n",
            "[[-0.61973155]\n",
            " [-0.96153575]\n",
            " [-1.1243702 ]\n",
            " [-1.2333906 ]\n",
            " [-1.2876408 ]\n",
            " [-1.1972754 ]\n",
            " [-0.91805667]\n",
            " [-0.7690976 ]\n",
            " [-0.9511197 ]\n",
            " [-0.9929203 ]\n",
            " [-0.954591  ]\n",
            " [-0.878691  ]\n",
            " [-0.81715196]\n",
            " [-0.7457878 ]\n",
            " [-0.48122022]\n",
            " [-0.505269  ]\n",
            " [-0.5954457 ]\n",
            " [-0.6728104 ]\n",
            " [-0.8003526 ]\n",
            " [-0.6875533 ]\n",
            " [-0.34316367]]\n",
            "[-0.61973155 -0.96153575 -1.1243702  -1.2333906  -1.2876408  -1.1972754\n",
            " -0.91805667 -0.7690976  -0.9511197  -0.9929203  -0.954591   -0.878691\n",
            " -0.81715196 -0.7457878  -0.48122022 -0.505269   -0.5954457  -0.6728104\n",
            " -0.8003526  -0.6875533  -0.34316367]\n"
          ]
        }
      ]
    },
    {
      "cell_type": "code",
      "source": [
        "print(test_target)\n",
        "print(target)\n",
        "testY = target[-21:]\n",
        "print(testY)\n",
        "print(testY)\n",
        "print(len(testY))\n",
        "testY = testY.to_numpy()\n"
      ],
      "metadata": {
        "colab": {
          "base_uri": "https://localhost:8080/"
        },
        "id": "90LRFJIlV9r_",
        "outputId": "f2d164b8-198c-4a4f-a550-17dc491b4fc3"
      },
      "execution_count": 7,
      "outputs": [
        {
          "output_type": "stream",
          "name": "stdout",
          "text": [
            "[-0.81602  -0.835173 -0.835163 -0.835151 -0.835161]\n",
            "0     -0.420174\n",
            "1     -0.567696\n",
            "2     -0.744875\n",
            "3     -0.832411\n",
            "4     -0.850371\n",
            "         ...   \n",
            "331   -0.787665\n",
            "332   -0.757685\n",
            "333   -0.763290\n",
            "334   -0.804168\n",
            "335   -0.835161\n",
            "Name: OT2, Length: 336, dtype: float64\n",
            "315   -0.562738\n",
            "316   -0.665410\n",
            "317   -0.812475\n",
            "318   -0.845901\n",
            "319   -0.854875\n",
            "320   -0.860082\n",
            "321   -0.863092\n",
            "322   -0.865011\n",
            "323   -0.865004\n",
            "324   -0.858831\n",
            "325   -0.840053\n",
            "326   -0.816774\n",
            "327   -0.791881\n",
            "328   -0.764618\n",
            "329   -0.788960\n",
            "330   -0.800580\n",
            "331   -0.787665\n",
            "332   -0.757685\n",
            "333   -0.763290\n",
            "334   -0.804168\n",
            "335   -0.835161\n",
            "Name: OT2, dtype: float64\n",
            "315   -0.562738\n",
            "316   -0.665410\n",
            "317   -0.812475\n",
            "318   -0.845901\n",
            "319   -0.854875\n",
            "320   -0.860082\n",
            "321   -0.863092\n",
            "322   -0.865011\n",
            "323   -0.865004\n",
            "324   -0.858831\n",
            "325   -0.840053\n",
            "326   -0.816774\n",
            "327   -0.791881\n",
            "328   -0.764618\n",
            "329   -0.788960\n",
            "330   -0.800580\n",
            "331   -0.787665\n",
            "332   -0.757685\n",
            "333   -0.763290\n",
            "334   -0.804168\n",
            "335   -0.835161\n",
            "Name: OT2, dtype: float64\n",
            "21\n"
          ]
        }
      ]
    },
    {
      "cell_type": "code",
      "source": [
        "import matplotlib.pyplot as plt\n",
        "\n",
        "# Assuming test_target is correctly aligned with test_predictions\n",
        "# plt.figure(figsize=(12, 6))\n",
        "plt.plot(testY, label='Actual Values', linestyle='-', color='blue')\n",
        "plt.plot(testPre, label='Predicted Values', linestyle='--', color='red')\n",
        "plt.title('Comparison of Actual and Predicted Values')\n",
        "plt.xlabel('Index')\n",
        "plt.ylabel('Value')\n",
        "plt.legend()\n",
        "plt.grid(True)\n",
        "plt.show()"
      ],
      "metadata": {
        "colab": {
          "base_uri": "https://localhost:8080/",
          "height": 472
        },
        "id": "_ZAWWznJWEIf",
        "outputId": "9b6e3d2f-629c-4477-c33b-06d922506c44"
      },
      "execution_count": 8,
      "outputs": [
        {
          "output_type": "display_data",
          "data": {
            "text/plain": [
              "<Figure size 640x480 with 1 Axes>"
            ],
            "image/png": "[encoded data removed]"
          },
          "metadata": {}
        }
      ]
    },
    {
      "cell_type": "code",
      "source": [
        "import pandas as pd\n",
        "\n",
        "# Create a DataFrame with both testY and testPre\n",
        "data = {\n",
        "    'Actual Values': testY,\n",
        "    'Predicted Values': testPre\n",
        "}\n",
        "df = pd.DataFrame(data)\n",
        "# Saving the DataFrame to a CSV file\n",
        "df.to_csv('predictions_comparison_OT2.csv', index=False)\n",
        "# Saving each vector to its own CSV file\n",
        "df_actual = pd.DataFrame(testY, columns=['Actual Values'])\n",
        "df_predicted = pd.DataFrame(testPre, columns=['Predicted Values'])\n",
        "\n",
        "df_actual.to_csv('actual_valuesOT2.csv', index=False)\n",
        "df_predicted.to_csv('predicted_valuesOT2.csv', index=False)\n"
      ],
      "metadata": {
        "id": "sBKM0mEmWFhc"
      },
      "execution_count": 12,
      "outputs": []
    }
  ]
}